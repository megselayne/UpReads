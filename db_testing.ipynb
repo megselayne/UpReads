{
 "cells": [
  {
   "cell_type": "code",
   "execution_count": 1,
   "metadata": {},
   "outputs": [],
   "source": [
    "\n",
    "%load_ext sql"
   ]
  },
  {
   "cell_type": "code",
   "execution_count": 2,
   "metadata": {},
   "outputs": [],
   "source": [
    "%sql postgresql://localhost/upreads_dev"
   ]
  },
  {
   "cell_type": "code",
   "execution_count": 4,
   "metadata": {},
   "outputs": [
    {
     "name": "stdout",
     "output_type": "stream",
     "text": [
      " * postgresql://localhost/upreads_dev\n",
      "Done.\n"
     ]
    },
    {
     "data": {
      "text/plain": [
       "[]"
      ]
     },
     "execution_count": 4,
     "metadata": {},
     "output_type": "execute_result"
    }
   ],
   "source": [
    "%%sql\n",
    "drop table users"
   ]
  },
  {
   "cell_type": "code",
   "execution_count": 5,
   "metadata": {},
   "outputs": [
    {
     "name": "stdout",
     "output_type": "stream",
     "text": [
      " * postgresql://localhost/upreads_dev\n",
      "Done.\n"
     ]
    },
    {
     "data": {
      "text/plain": [
       "[]"
      ]
     },
     "execution_count": 5,
     "metadata": {},
     "output_type": "execute_result"
    }
   ],
   "source": [
    "%%sql\n",
    "drop table shelves"
   ]
  },
  {
   "cell_type": "code",
   "execution_count": 5,
   "metadata": {},
   "outputs": [
    {
     "name": "stdout",
     "output_type": "stream",
     "text": [
      " * postgresql://localhost/upreads_dev\n",
      "Done.\n"
     ]
    },
    {
     "data": {
      "text/plain": [
       "[]"
      ]
     },
     "execution_count": 5,
     "metadata": {},
     "output_type": "execute_result"
    }
   ],
   "source": [
    "%%sql\n",
    "drop table user_shelves"
   ]
  },
  {
   "cell_type": "code",
   "execution_count": 18,
   "metadata": {},
   "outputs": [
    {
     "name": "stdout",
     "output_type": "stream",
     "text": [
      " * postgresql://localhost/upreads_dev\n",
      "Done.\n"
     ]
    },
    {
     "data": {
      "text/plain": [
       "[]"
      ]
     },
     "execution_count": 18,
     "metadata": {},
     "output_type": "execute_result"
    }
   ],
   "source": [
    "%%sql\n",
    "drop table user_books"
   ]
  },
  {
   "cell_type": "code",
   "execution_count": 8,
   "metadata": {},
   "outputs": [
    {
     "name": "stdout",
     "output_type": "stream",
     "text": [
      " * postgresql://localhost/upreads_dev\n",
      "Done.\n"
     ]
    },
    {
     "data": {
      "text/plain": [
       "[]"
      ]
     },
     "execution_count": 8,
     "metadata": {},
     "output_type": "execute_result"
    }
   ],
   "source": [
    "%%sql\n",
    "drop table shelf_books"
   ]
  },
  {
   "cell_type": "code",
   "execution_count": 6,
   "metadata": {},
   "outputs": [
    {
     "name": "stdout",
     "output_type": "stream",
     "text": [
      " * postgresql://localhost/upreads_dev\n",
      "Done.\n"
     ]
    },
    {
     "data": {
      "text/plain": [
       "[]"
      ]
     },
     "execution_count": 6,
     "metadata": {},
     "output_type": "execute_result"
    }
   ],
   "source": [
    "%%sql\n",
    "CREATE TABLE IF NOT EXISTS users (\n",
    "    id SERIAL PRIMARY KEY,\n",
    "    username VARCHAR(255) UNIQUE NOT NULL,\n",
    "    email VARCHAR(255) UNIQUE NOT NULL,\n",
    "    password_digest TEXT NOT NULL\n",
    ");"
   ]
  },
  {
   "cell_type": "code",
   "execution_count": 14,
   "metadata": {},
   "outputs": [
    {
     "name": "stdout",
     "output_type": "stream",
     "text": [
      " * postgresql://localhost/upreads_dev\n",
      "Done.\n"
     ]
    },
    {
     "data": {
      "text/plain": [
       "[]"
      ]
     },
     "execution_count": 14,
     "metadata": {},
     "output_type": "execute_result"
    }
   ],
   "source": [
    "%%sql \n",
    "CREATE TABLE IF NOT EXISTS shelves(\n",
    "    id SERIAL PRIMARY KEY,\n",
    "    is_public BOOLEAN,\n",
    "    creator_user_id INTEGER,\n",
    "    shelf_name VARCHAR(255)\n",
    ");"
   ]
  },
  {
   "cell_type": "code",
   "execution_count": 6,
   "metadata": {},
   "outputs": [
    {
     "name": "stdout",
     "output_type": "stream",
     "text": [
      " * postgresql://localhost/upreads_dev\n",
      "Done.\n"
     ]
    },
    {
     "data": {
      "text/plain": [
       "[]"
      ]
     },
     "execution_count": 6,
     "metadata": {},
     "output_type": "execute_result"
    }
   ],
   "source": [
    "%%sql \n",
    "CREATE TABLE IF NOT EXISTS user_shelves(\n",
    "    id SERIAL PRIMARY KEY,\n",
    "    user_id INTEGER,\n",
    "    shelf_id INTEGER REFERENCES shelves(id) UNIQUE\n",
    ");"
   ]
  },
  {
   "cell_type": "code",
   "execution_count": 20,
   "metadata": {},
   "outputs": [
    {
     "name": "stdout",
     "output_type": "stream",
     "text": [
      " * postgresql://localhost/upreads_dev\n",
      "Done.\n"
     ]
    },
    {
     "data": {
      "text/plain": [
       "[]"
      ]
     },
     "execution_count": 20,
     "metadata": {},
     "output_type": "execute_result"
    }
   ],
   "source": [
    "%%sql \n",
    "CREATE TABLE IF NOT EXISTS user_books(\n",
    "    id SERIAL PRIMARY KEY,\n",
    "    user_id INTEGER,\n",
    "    google_book_id VARCHAR(255),\n",
    "    status VARCHAR(255),\n",
    "    shelf_id INTEGER REFERENCES user_shelves(shelf_id)\n",
    ");"
   ]
  },
  {
   "cell_type": "code",
   "execution_count": 19,
   "metadata": {},
   "outputs": [
    {
     "name": "stdout",
     "output_type": "stream",
     "text": [
      " * postgresql://localhost/upreads_dev\n",
      "Done.\n"
     ]
    },
    {
     "data": {
      "text/plain": [
       "[]"
      ]
     },
     "execution_count": 19,
     "metadata": {},
     "output_type": "execute_result"
    }
   ],
   "source": [
    "%%sql\n",
    "CREATE TABLE IF NOT EXISTS shelf_books(\n",
    "    id SERIAL PRIMARY KEY,\n",
    "    shelf_id INTEGER,\n",
    "    google_book_id VARCHAR(255)\n",
    ");   "
   ]
  },
  {
   "cell_type": "code",
   "execution_count": 3,
   "metadata": {},
   "outputs": [
    {
     "name": "stdout",
     "output_type": "stream",
     "text": [
      " * postgresql://localhost/upreads_dev\n",
      "2 rows affected.\n"
     ]
    },
    {
     "data": {
      "text/plain": [
       "[]"
      ]
     },
     "execution_count": 3,
     "metadata": {},
     "output_type": "execute_result"
    }
   ],
   "source": [
    "%%sql\n",
    "INSERT INTO users\n",
    "(username, email, password_digest)\n",
    "VALUES\n",
    "('megs', 'megs@mail.com', 'megspass'),\n",
    "('jordan', 'jordan@mail.com', 'jordanpass')\n",
    ";"
   ]
  },
  {
   "cell_type": "code",
   "execution_count": 4,
   "metadata": {},
   "outputs": [
    {
     "name": "stdout",
     "output_type": "stream",
     "text": [
      " * postgresql://localhost/upreads_dev\n",
      "2 rows affected.\n"
     ]
    },
    {
     "data": {
      "text/plain": [
       "[]"
      ]
     },
     "execution_count": 4,
     "metadata": {},
     "output_type": "execute_result"
    }
   ],
   "source": [
    "%%sql \n",
    "INSERT INTO shelves\n",
    "    (is_public, creator_user_id, shelf_name)\n",
    "VALUES\n",
    "    (true, 1, 'Black Lives Matter'),\n",
    "    (true, 1, 'Black Women Authors, Fiction')\n",
    ";    "
   ]
  },
  {
   "cell_type": "code",
   "execution_count": 7,
   "metadata": {},
   "outputs": [
    {
     "name": "stdout",
     "output_type": "stream",
     "text": [
      " * postgresql://localhost/upreads_dev\n",
      "2 rows affected.\n"
     ]
    },
    {
     "data": {
      "text/plain": [
       "[]"
      ]
     },
     "execution_count": 7,
     "metadata": {},
     "output_type": "execute_result"
    }
   ],
   "source": [
    "%%sql\n",
    "INSERT INTO user_shelves\n",
    "    (user_id, shelf_id)\n",
    "VALUES\n",
    "    (1, 1),\n",
    "    (1, 2)\n",
    ";"
   ]
  },
  {
   "cell_type": "code",
   "execution_count": 6,
   "metadata": {},
   "outputs": [
    {
     "name": "stdout",
     "output_type": "stream",
     "text": [
      " * postgresql://localhost/upreads_dev\n",
      "5 rows affected.\n"
     ]
    },
    {
     "data": {
      "text/plain": [
       "[]"
      ]
     },
     "execution_count": 6,
     "metadata": {},
     "output_type": "execute_result"
    }
   ],
   "source": [
    "%%sql\n",
    "INSERT INTO shelf_books\n",
    "    (shelf_id, google_book_id)\n",
    "VALUES\n",
    "    (1, '1BLM'),\n",
    "    (1, '2BLM'),\n",
    "    (1, '3BLM'),\n",
    "    (2, '1WOMEN'),\n",
    "    (2, '2WOMEN')\n",
    ";"
   ]
  },
  {
   "cell_type": "code",
   "execution_count": 21,
   "metadata": {},
   "outputs": [
    {
     "name": "stdout",
     "output_type": "stream",
     "text": [
      " * postgresql://localhost/upreads_dev\n",
      "5 rows affected.\n"
     ]
    },
    {
     "data": {
      "text/plain": [
       "[]"
      ]
     },
     "execution_count": 21,
     "metadata": {},
     "output_type": "execute_result"
    }
   ],
   "source": [
    "%%sql\n",
    "INSERT INTO user_books\n",
    "    (user_id, status, google_book_id, shelf_id)\n",
    "VALUES\n",
    "    (1, 'unread','1BLM', 1),\n",
    "    (1, 'read','2BLM', 1),\n",
    "    (1, 'undread','3BLM', 1),\n",
    "    (1, 'unread','1WOMEN', 2),\n",
    "    (1, 'unread','2WOMEN', 2)\n",
    "    ;"
   ]
  },
  {
   "cell_type": "markdown",
   "metadata": {},
   "source": [
    "## Get user books\n",
    "- get all books that a user has saved by shelf"
   ]
  },
  {
   "cell_type": "code",
   "execution_count": 15,
   "metadata": {},
   "outputs": [
    {
     "name": "stdout",
     "output_type": "stream",
     "text": [
      " * postgresql://localhost/upreads_dev\n",
      "6 rows affected.\n"
     ]
    },
    {
     "data": {
      "text/html": [
       "<table>\n",
       "    <tr>\n",
       "        <th>id</th>\n",
       "        <th>user_id</th>\n",
       "        <th>google_book_id</th>\n",
       "        <th>status</th>\n",
       "    </tr>\n",
       "    <tr>\n",
       "        <td>1</td>\n",
       "        <td>1</td>\n",
       "        <td>1BLM</td>\n",
       "        <td>unread</td>\n",
       "    </tr>\n",
       "    <tr>\n",
       "        <td>2</td>\n",
       "        <td>1</td>\n",
       "        <td>1BLM</td>\n",
       "        <td>unread</td>\n",
       "    </tr>\n",
       "    <tr>\n",
       "        <td>3</td>\n",
       "        <td>1</td>\n",
       "        <td>2BLM</td>\n",
       "        <td>read</td>\n",
       "    </tr>\n",
       "    <tr>\n",
       "        <td>4</td>\n",
       "        <td>1</td>\n",
       "        <td>3BLM</td>\n",
       "        <td>undread</td>\n",
       "    </tr>\n",
       "    <tr>\n",
       "        <td>5</td>\n",
       "        <td>1</td>\n",
       "        <td>1WOMEN</td>\n",
       "        <td>unread</td>\n",
       "    </tr>\n",
       "    <tr>\n",
       "        <td>6</td>\n",
       "        <td>1</td>\n",
       "        <td>2WOMEN</td>\n",
       "        <td>unread</td>\n",
       "    </tr>\n",
       "</table>"
      ],
      "text/plain": [
       "[(1, 1, '1BLM', 'unread'),\n",
       " (2, 1, '1BLM', 'unread'),\n",
       " (3, 1, '2BLM', 'read'),\n",
       " (4, 1, '3BLM', 'undread'),\n",
       " (5, 1, '1WOMEN', 'unread'),\n",
       " (6, 1, '2WOMEN', 'unread')]"
      ]
     },
     "execution_count": 15,
     "metadata": {},
     "output_type": "execute_result"
    }
   ],
   "source": [
    "%%sql\n",
    "select * from user_books where user_id = 1;"
   ]
  },
  {
   "cell_type": "code",
   "execution_count": 4,
   "metadata": {},
   "outputs": [
    {
     "name": "stdout",
     "output_type": "stream",
     "text": [
      " * postgresql://localhost/upreads_dev\n",
      "5 rows affected.\n"
     ]
    },
    {
     "data": {
      "text/html": [
       "<table>\n",
       "    <tr>\n",
       "        <th>shelf_name</th>\n",
       "        <th>shelf_id</th>\n",
       "        <th>google_book_id</th>\n",
       "    </tr>\n",
       "    <tr>\n",
       "        <td>Black Lives Matter</td>\n",
       "        <td>1</td>\n",
       "        <td>1BLM</td>\n",
       "    </tr>\n",
       "    <tr>\n",
       "        <td>Black Lives Matter</td>\n",
       "        <td>1</td>\n",
       "        <td>2BLM</td>\n",
       "    </tr>\n",
       "    <tr>\n",
       "        <td>Black Lives Matter</td>\n",
       "        <td>1</td>\n",
       "        <td>3BLM</td>\n",
       "    </tr>\n",
       "    <tr>\n",
       "        <td>Black Women Authors, Fiction</td>\n",
       "        <td>2</td>\n",
       "        <td>1WOMEN</td>\n",
       "    </tr>\n",
       "    <tr>\n",
       "        <td>Black Women Authors, Fiction</td>\n",
       "        <td>2</td>\n",
       "        <td>2WOMEN</td>\n",
       "    </tr>\n",
       "</table>"
      ],
      "text/plain": [
       "[('Black Lives Matter', 1, '1BLM'),\n",
       " ('Black Lives Matter', 1, '2BLM'),\n",
       " ('Black Lives Matter', 1, '3BLM'),\n",
       " ('Black Women Authors, Fiction', 2, '1WOMEN'),\n",
       " ('Black Women Authors, Fiction', 2, '2WOMEN')]"
      ]
     },
     "execution_count": 4,
     "metadata": {},
     "output_type": "execute_result"
    }
   ],
   "source": [
    "%%sql\n",
    "SELECT\n",
    "    shelf_name,\n",
    "    user_shelves.shelf_id,\n",
    "    google_book_id\n",
    "FROM\n",
    "    (\n",
    "        SELECT\n",
    "            shelf_name,\n",
    "            us.shelf_id\n",
    "        FROM user_shelves us\n",
    "        LEFT JOIN shelves on us.shelf_id = shelves.id\n",
    "        WHERE us.user_id = 1\n",
    "    ) user_shelves\n",
    "LEFT JOIN shelf_books on user_shelves.shelf_id = shelf_books.shelf_id\n"
   ]
  },
  {
   "cell_type": "code",
   "execution_count": 7,
   "metadata": {},
   "outputs": [
    {
     "name": "stdout",
     "output_type": "stream",
     "text": [
      " * postgresql://localhost/upreads_dev\n",
      "5 rows affected.\n"
     ]
    },
    {
     "data": {
      "text/html": [
       "<table>\n",
       "    <tr>\n",
       "        <th>shelf_name</th>\n",
       "        <th>id</th>\n",
       "        <th>google_book_id</th>\n",
       "        <th>is_public</th>\n",
       "    </tr>\n",
       "    <tr>\n",
       "        <td>Black Lives Matter</td>\n",
       "        <td>1</td>\n",
       "        <td>1BLM</td>\n",
       "        <td>True</td>\n",
       "    </tr>\n",
       "    <tr>\n",
       "        <td>Black Lives Matter</td>\n",
       "        <td>1</td>\n",
       "        <td>2BLM</td>\n",
       "        <td>True</td>\n",
       "    </tr>\n",
       "    <tr>\n",
       "        <td>Black Lives Matter</td>\n",
       "        <td>1</td>\n",
       "        <td>3BLM</td>\n",
       "        <td>True</td>\n",
       "    </tr>\n",
       "    <tr>\n",
       "        <td>Black Women Authors, Fiction</td>\n",
       "        <td>2</td>\n",
       "        <td>1WOMEN</td>\n",
       "        <td>True</td>\n",
       "    </tr>\n",
       "    <tr>\n",
       "        <td>Black Women Authors, Fiction</td>\n",
       "        <td>2</td>\n",
       "        <td>2WOMEN</td>\n",
       "        <td>True</td>\n",
       "    </tr>\n",
       "</table>"
      ],
      "text/plain": [
       "[('Black Lives Matter', 1, '1BLM', True),\n",
       " ('Black Lives Matter', 1, '2BLM', True),\n",
       " ('Black Lives Matter', 1, '3BLM', True),\n",
       " ('Black Women Authors, Fiction', 2, '1WOMEN', True),\n",
       " ('Black Women Authors, Fiction', 2, '2WOMEN', True)]"
      ]
     },
     "execution_count": 7,
     "metadata": {},
     "output_type": "execute_result"
    }
   ],
   "source": [
    "%%sql\n",
    "SELECT\n",
    "    shelf_name,\n",
    "    shelves.id,\n",
    "    google_book_id\n",
    "FROM shelves\n",
    "LEFT JOIN\n",
    "    shelf_books on shelves.id = shelf_books.shelf_id\n",
    "WHERE is_public = true\n",
    ";\n",
    "\n"
   ]
  },
  {
   "cell_type": "code",
   "execution_count": 8,
   "metadata": {},
   "outputs": [
    {
     "name": "stdout",
     "output_type": "stream",
     "text": [
      " * postgresql://localhost/upreads_dev\n",
      "2 rows affected.\n"
     ]
    },
    {
     "data": {
      "text/html": [
       "<table>\n",
       "    <tr>\n",
       "        <th>id</th>\n",
       "        <th>user_id</th>\n",
       "        <th>shelf_id</th>\n",
       "    </tr>\n",
       "    <tr>\n",
       "        <td>1</td>\n",
       "        <td>1</td>\n",
       "        <td>1</td>\n",
       "    </tr>\n",
       "    <tr>\n",
       "        <td>2</td>\n",
       "        <td>1</td>\n",
       "        <td>2</td>\n",
       "    </tr>\n",
       "</table>"
      ],
      "text/plain": [
       "[(1, 1, 1), (2, 1, 2)]"
      ]
     },
     "execution_count": 8,
     "metadata": {},
     "output_type": "execute_result"
    }
   ],
   "source": [
    "%%sql\n",
    "select * from user_shelves;"
   ]
  },
  {
   "cell_type": "code",
   "execution_count": 23,
   "metadata": {},
   "outputs": [
    {
     "name": "stdout",
     "output_type": "stream",
     "text": [
      " * postgresql://localhost/upreads_dev\n",
      "5 rows affected.\n"
     ]
    },
    {
     "data": {
      "text/html": [
       "<table>\n",
       "    <tr>\n",
       "        <th>id</th>\n",
       "        <th>user_id</th>\n",
       "        <th>google_book_id</th>\n",
       "        <th>status</th>\n",
       "        <th>shelf_id</th>\n",
       "    </tr>\n",
       "    <tr>\n",
       "        <td>1</td>\n",
       "        <td>1</td>\n",
       "        <td>1BLM</td>\n",
       "        <td>unread</td>\n",
       "        <td>1</td>\n",
       "    </tr>\n",
       "    <tr>\n",
       "        <td>2</td>\n",
       "        <td>1</td>\n",
       "        <td>2BLM</td>\n",
       "        <td>read</td>\n",
       "        <td>1</td>\n",
       "    </tr>\n",
       "    <tr>\n",
       "        <td>3</td>\n",
       "        <td>1</td>\n",
       "        <td>3BLM</td>\n",
       "        <td>undread</td>\n",
       "        <td>1</td>\n",
       "    </tr>\n",
       "    <tr>\n",
       "        <td>4</td>\n",
       "        <td>1</td>\n",
       "        <td>1WOMEN</td>\n",
       "        <td>unread</td>\n",
       "        <td>2</td>\n",
       "    </tr>\n",
       "    <tr>\n",
       "        <td>5</td>\n",
       "        <td>1</td>\n",
       "        <td>2WOMEN</td>\n",
       "        <td>unread</td>\n",
       "        <td>2</td>\n",
       "    </tr>\n",
       "</table>"
      ],
      "text/plain": [
       "[(1, 1, '1BLM', 'unread', 1),\n",
       " (2, 1, '2BLM', 'read', 1),\n",
       " (3, 1, '3BLM', 'undread', 1),\n",
       " (4, 1, '1WOMEN', 'unread', 2),\n",
       " (5, 1, '2WOMEN', 'unread', 2)]"
      ]
     },
     "execution_count": 23,
     "metadata": {},
     "output_type": "execute_result"
    }
   ],
   "source": [
    "%%sql\n",
    "select * from user_books;"
   ]
  },
  {
   "cell_type": "code",
   "execution_count": null,
   "metadata": {},
   "outputs": [],
   "source": []
  }
 ],
 "metadata": {
  "kernelspec": {
   "display_name": "Python 3",
   "language": "python",
   "name": "python3"
  },
  "language_info": {
   "codemirror_mode": {
    "name": "ipython",
    "version": 3
   },
   "file_extension": ".py",
   "mimetype": "text/x-python",
   "name": "python",
   "nbconvert_exporter": "python",
   "pygments_lexer": "ipython3",
   "version": "3.7.6"
  }
 },
 "nbformat": 4,
 "nbformat_minor": 4
}
