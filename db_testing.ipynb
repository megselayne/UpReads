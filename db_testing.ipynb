{
 "cells": [
  {
   "cell_type": "code",
   "execution_count": 1,
   "metadata": {},
   "outputs": [],
   "source": [
    "\n",
    "%load_ext sql"
   ]
  },
  {
   "cell_type": "code",
   "execution_count": 2,
   "metadata": {},
   "outputs": [],
   "source": [
    "%sql postgresql://localhost/upreads_dev"
   ]
  },
  {
   "cell_type": "code",
   "execution_count": 7,
   "metadata": {},
   "outputs": [
    {
     "name": "stdout",
     "output_type": "stream",
     "text": [
      " * postgresql://localhost/upreads_dev\n",
      "Done.\n"
     ]
    },
    {
     "data": {
      "text/plain": [
       "[]"
      ]
     },
     "execution_count": 7,
     "metadata": {},
     "output_type": "execute_result"
    }
   ],
   "source": [
    "%%sql\n",
    "drop table users"
   ]
  },
  {
   "cell_type": "code",
   "execution_count": 6,
   "metadata": {},
   "outputs": [
    {
     "name": "stdout",
     "output_type": "stream",
     "text": [
      " * postgresql://localhost/upreads_dev\n",
      "Done.\n"
     ]
    },
    {
     "data": {
      "text/plain": [
       "[]"
      ]
     },
     "execution_count": 6,
     "metadata": {},
     "output_type": "execute_result"
    }
   ],
   "source": [
    "%%sql\n",
    "drop table shelves"
   ]
  },
  {
   "cell_type": "code",
   "execution_count": 5,
   "metadata": {},
   "outputs": [
    {
     "name": "stdout",
     "output_type": "stream",
     "text": [
      " * postgresql://localhost/upreads_dev\n",
      "Done.\n"
     ]
    },
    {
     "data": {
      "text/plain": [
       "[]"
      ]
     },
     "execution_count": 5,
     "metadata": {},
     "output_type": "execute_result"
    }
   ],
   "source": [
    "%%sql\n",
    "drop table user_shelves"
   ]
  },
  {
   "cell_type": "code",
   "execution_count": 4,
   "metadata": {},
   "outputs": [
    {
     "name": "stdout",
     "output_type": "stream",
     "text": [
      " * postgresql://localhost/upreads_dev\n",
      "Done.\n"
     ]
    },
    {
     "data": {
      "text/plain": [
       "[]"
      ]
     },
     "execution_count": 4,
     "metadata": {},
     "output_type": "execute_result"
    }
   ],
   "source": [
    "%%sql\n",
    "drop table user_books"
   ]
  },
  {
   "cell_type": "code",
   "execution_count": 3,
   "metadata": {},
   "outputs": [
    {
     "name": "stdout",
     "output_type": "stream",
     "text": [
      " * postgresql://localhost/upreads_dev\n",
      "Done.\n"
     ]
    },
    {
     "data": {
      "text/plain": [
       "[]"
      ]
     },
     "execution_count": 3,
     "metadata": {},
     "output_type": "execute_result"
    }
   ],
   "source": [
    "%%sql\n",
    "drop table shelf_books"
   ]
  },
  {
   "cell_type": "code",
   "execution_count": 12,
   "metadata": {},
   "outputs": [
    {
     "name": "stdout",
     "output_type": "stream",
     "text": [
      " * postgresql://localhost/upreads_dev\n",
      "Done.\n"
     ]
    },
    {
     "data": {
      "text/plain": [
       "[]"
      ]
     },
     "execution_count": 12,
     "metadata": {},
     "output_type": "execute_result"
    }
   ],
   "source": [
    "%%sql\n",
    "CREATE TABLE IF NOT EXISTS users (\n",
    "    id SERIAL PRIMARY KEY,\n",
    "    username VARCHAR(255) UNIQUE NOT NULL,\n",
    "    email VARCHAR(255) UNIQUE NOT NULL,\n",
    "    password_digest TEXT NOT NULL\n",
    ");"
   ]
  },
  {
   "cell_type": "code",
   "execution_count": 13,
   "metadata": {},
   "outputs": [
    {
     "name": "stdout",
     "output_type": "stream",
     "text": [
      " * postgresql://localhost/upreads_dev\n",
      "Done.\n"
     ]
    },
    {
     "data": {
      "text/plain": [
       "[]"
      ]
     },
     "execution_count": 13,
     "metadata": {},
     "output_type": "execute_result"
    }
   ],
   "source": [
    "%%sql \n",
    "CREATE TABLE IF NOT EXISTS shelves(\n",
    "    id SERIAL PRIMARY KEY,\n",
    "    is_public BOOLEAN,\n",
    "    creator_user_id INTEGER,\n",
    "    shelf_name VARCHAR(255)\n",
    ");"
   ]
  },
  {
   "cell_type": "code",
   "execution_count": 14,
   "metadata": {},
   "outputs": [
    {
     "name": "stdout",
     "output_type": "stream",
     "text": [
      " * postgresql://localhost/upreads_dev\n",
      "Done.\n"
     ]
    },
    {
     "data": {
      "text/plain": [
       "[]"
      ]
     },
     "execution_count": 14,
     "metadata": {},
     "output_type": "execute_result"
    }
   ],
   "source": [
    "%%sql \n",
    "CREATE TABLE IF NOT EXISTS user_shelves(\n",
    "    id SERIAL PRIMARY KEY,\n",
    "    user_id INTEGER,\n",
    "    shelf_id INTEGER REFERENCES shelves(id) UNIQUE\n",
    ");"
   ]
  },
  {
   "cell_type": "code",
   "execution_count": 15,
   "metadata": {},
   "outputs": [
    {
     "name": "stdout",
     "output_type": "stream",
     "text": [
      " * postgresql://localhost/upreads_dev\n",
      "Done.\n"
     ]
    },
    {
     "data": {
      "text/plain": [
       "[]"
      ]
     },
     "execution_count": 15,
     "metadata": {},
     "output_type": "execute_result"
    }
   ],
   "source": [
    "%%sql \n",
    "CREATE TABLE IF NOT EXISTS user_books(\n",
    "    id SERIAL PRIMARY KEY,\n",
    "    user_id INTEGER,\n",
    "    google_book_id VARCHAR(255),\n",
    "    status VARCHAR(255),\n",
    "    shelf_id INTEGER REFERENCES user_shelves(shelf_id),\n",
    "    title VARCHAR(255),\n",
    "    author VARCHAR(255),\n",
    "    cover_img VARCHAR(255)\n",
    ");"
   ]
  },
  {
   "cell_type": "code",
   "execution_count": 16,
   "metadata": {},
   "outputs": [
    {
     "name": "stdout",
     "output_type": "stream",
     "text": [
      " * postgresql://localhost/upreads_dev\n",
      "Done.\n"
     ]
    },
    {
     "data": {
      "text/plain": [
       "[]"
      ]
     },
     "execution_count": 16,
     "metadata": {},
     "output_type": "execute_result"
    }
   ],
   "source": [
    "%%sql\n",
    "CREATE TABLE IF NOT EXISTS shelf_books(\n",
    "    id SERIAL PRIMARY KEY,\n",
    "    shelf_id INTEGER,\n",
    "    google_book_id VARCHAR(255),\n",
    "    title VARCHAR(255),\n",
    "    author VARCHAR(255),\n",
    "    cover_img VARCHAR(255)\n",
    ");   "
   ]
  },
  {
   "cell_type": "code",
   "execution_count": 17,
   "metadata": {},
   "outputs": [
    {
     "name": "stdout",
     "output_type": "stream",
     "text": [
      " * postgresql://localhost/upreads_dev\n",
      "2 rows affected.\n"
     ]
    },
    {
     "data": {
      "text/plain": [
       "[]"
      ]
     },
     "execution_count": 17,
     "metadata": {},
     "output_type": "execute_result"
    }
   ],
   "source": [
    "%%sql \n",
    "INSERT INTO shelves\n",
    "    (is_public, creator_user_id, shelf_name)\n",
    "VALUES\n",
    "    (true, 1, 'Black Lives Matter'),\n",
    "    (true, 1, 'Black Women Authors, Fiction')\n",
    ";    "
   ]
  },
  {
   "cell_type": "code",
   "execution_count": 18,
   "metadata": {},
   "outputs": [
    {
     "name": "stdout",
     "output_type": "stream",
     "text": [
      " * postgresql://localhost/upreads_dev\n",
      "2 rows affected.\n"
     ]
    },
    {
     "data": {
      "text/plain": [
       "[]"
      ]
     },
     "execution_count": 18,
     "metadata": {},
     "output_type": "execute_result"
    }
   ],
   "source": [
    "%%sql\n",
    "INSERT INTO user_shelves\n",
    "    (user_id, shelf_id)\n",
    "VALUES\n",
    "    (1, 1),\n",
    "    (1, 2)\n",
    ";"
   ]
  },
  {
   "cell_type": "code",
   "execution_count": 20,
   "metadata": {},
   "outputs": [
    {
     "name": "stdout",
     "output_type": "stream",
     "text": [
      " * postgresql://localhost/upreads_dev\n",
      "3 rows affected.\n"
     ]
    },
    {
     "data": {
      "text/plain": [
       "[]"
      ]
     },
     "execution_count": 20,
     "metadata": {},
     "output_type": "execute_result"
    }
   ],
   "source": [
    "%%sql\n",
    "INSERT INTO shelf_books\n",
    "    (shelf_id, google_book_id, title, author, cover_img)\n",
    "VALUES\n",
    "    (1, 'REKIbk12HxkC', 'Point Blank', 'Anthony Horowitz', 'http://books.google.com/books/content?id=REKIbk12HxkC&printsec=frontcover&img=1&zoom=5&edge=curl&source=gbs_api'),\n",
    "    (1, 'cYzzDwAAQBAJ', 'Alex Rider: Secret Weapon', 'Anthony Horowitz', 'http://books.google.com/books/content?id=cYzzDwAAQBAJ&printsec=frontcover&img=1&zoom=5&edge=curl&source=gbs_api' ),\n",
    "    (2, 'vMcBnbBt68o', 'Nightshade', 'Anthony Horowitz', 'http://books.google.com/books/content?id=wSSZDwAAQBAJ&printsec=frontcover&img=1&zoom=5&edge=curl&source=gbs_api')\n",
    ";"
   ]
  },
  {
   "cell_type": "code",
   "execution_count": 21,
   "metadata": {},
   "outputs": [
    {
     "name": "stdout",
     "output_type": "stream",
     "text": [
      " * postgresql://localhost/upreads_dev\n",
      "3 rows affected.\n"
     ]
    },
    {
     "data": {
      "text/plain": [
       "[]"
      ]
     },
     "execution_count": 21,
     "metadata": {},
     "output_type": "execute_result"
    }
   ],
   "source": [
    "%%sql\n",
    "INSERT INTO user_books\n",
    "    (user_id, status, google_book_id, shelf_id, title, author, cover_img)\n",
    "VALUES\n",
    "    (1, 'unread', 'REKIbk12HxkC', 1, 'Point Blank', 'Anthony Horowitz', 'http://books.google.com/books/content?id=REKIbk12HxkC&printsec=frontcover&img=1&zoom=5&edge=curl&source=gbs_api'),\n",
    "    (1, 'unread','cYzzDwAAQBAJ', 1, 'Alex Rider: Secret Weapon', 'Anthony Horowitz', 'http://books.google.com/books/content?id=cYzzDwAAQBAJ&printsec=frontcover&img=1&zoom=5&edge=curl&source=gbs_api' ),\n",
    "    (1, 'unread', 'vMcBnbBt68o', 2, 'Nightshade', 'Anthony Horowitz', 'http://books.google.com/books/content?id=wSSZDwAAQBAJ&printsec=frontcover&img=1&zoom=5&edge=curl&source=gbs_api')\n",
    "    ;"
   ]
  },
  {
   "cell_type": "markdown",
   "metadata": {},
   "source": [
    "## Get user books\n",
    "- get all books that a user has saved by shelf"
   ]
  },
  {
   "cell_type": "code",
   "execution_count": 22,
   "metadata": {},
   "outputs": [
    {
     "name": "stdout",
     "output_type": "stream",
     "text": [
      " * postgresql://localhost/upreads_dev\n",
      "3 rows affected.\n"
     ]
    },
    {
     "data": {
      "text/html": [
       "<table>\n",
       "    <tr>\n",
       "        <th>id</th>\n",
       "        <th>user_id</th>\n",
       "        <th>google_book_id</th>\n",
       "        <th>status</th>\n",
       "        <th>shelf_id</th>\n",
       "        <th>title</th>\n",
       "        <th>author</th>\n",
       "        <th>cover_img</th>\n",
       "    </tr>\n",
       "    <tr>\n",
       "        <td>1</td>\n",
       "        <td>1</td>\n",
       "        <td>REKIbk12HxkC</td>\n",
       "        <td>unread</td>\n",
       "        <td>1</td>\n",
       "        <td>Point Blank</td>\n",
       "        <td>Anthony Horowitz</td>\n",
       "        <td>http://books.google.com/books/content?id=REKIbk12HxkC&amp;printsec=frontcover&amp;img=1&amp;zoom=5&amp;edge=curl&amp;source=gbs_api</td>\n",
       "    </tr>\n",
       "    <tr>\n",
       "        <td>2</td>\n",
       "        <td>1</td>\n",
       "        <td>cYzzDwAAQBAJ</td>\n",
       "        <td>unread</td>\n",
       "        <td>1</td>\n",
       "        <td>Alex Rider: Secret Weapon</td>\n",
       "        <td>Anthony Horowitz</td>\n",
       "        <td>http://books.google.com/books/content?id=cYzzDwAAQBAJ&amp;printsec=frontcover&amp;img=1&amp;zoom=5&amp;edge=curl&amp;source=gbs_api</td>\n",
       "    </tr>\n",
       "    <tr>\n",
       "        <td>3</td>\n",
       "        <td>1</td>\n",
       "        <td>vMcBnbBt68o</td>\n",
       "        <td>unread</td>\n",
       "        <td>2</td>\n",
       "        <td>Nightshade</td>\n",
       "        <td>Anthony Horowitz</td>\n",
       "        <td>http://books.google.com/books/content?id=wSSZDwAAQBAJ&amp;printsec=frontcover&amp;img=1&amp;zoom=5&amp;edge=curl&amp;source=gbs_api</td>\n",
       "    </tr>\n",
       "</table>"
      ],
      "text/plain": [
       "[(1, 1, 'REKIbk12HxkC', 'unread', 1, 'Point Blank', 'Anthony Horowitz', 'http://books.google.com/books/content?id=REKIbk12HxkC&printsec=frontcover&img=1&zoom=5&edge=curl&source=gbs_api'),\n",
       " (2, 1, 'cYzzDwAAQBAJ', 'unread', 1, 'Alex Rider: Secret Weapon', 'Anthony Horowitz', 'http://books.google.com/books/content?id=cYzzDwAAQBAJ&printsec=frontcover&img=1&zoom=5&edge=curl&source=gbs_api'),\n",
       " (3, 1, 'vMcBnbBt68o', 'unread', 2, 'Nightshade', 'Anthony Horowitz', 'http://books.google.com/books/content?id=wSSZDwAAQBAJ&printsec=frontcover&img=1&zoom=5&edge=curl&source=gbs_api')]"
      ]
     },
     "execution_count": 22,
     "metadata": {},
     "output_type": "execute_result"
    }
   ],
   "source": [
    "%%sql\n",
    "select * from user_books where user_id = 1;"
   ]
  },
  {
   "cell_type": "code",
   "execution_count": 4,
   "metadata": {},
   "outputs": [
    {
     "name": "stdout",
     "output_type": "stream",
     "text": [
      " * postgresql://localhost/upreads_dev\n",
      "5 rows affected.\n"
     ]
    },
    {
     "data": {
      "text/html": [
       "<table>\n",
       "    <tr>\n",
       "        <th>shelf_name</th>\n",
       "        <th>shelf_id</th>\n",
       "        <th>google_book_id</th>\n",
       "    </tr>\n",
       "    <tr>\n",
       "        <td>Black Lives Matter</td>\n",
       "        <td>1</td>\n",
       "        <td>1BLM</td>\n",
       "    </tr>\n",
       "    <tr>\n",
       "        <td>Black Lives Matter</td>\n",
       "        <td>1</td>\n",
       "        <td>2BLM</td>\n",
       "    </tr>\n",
       "    <tr>\n",
       "        <td>Black Lives Matter</td>\n",
       "        <td>1</td>\n",
       "        <td>3BLM</td>\n",
       "    </tr>\n",
       "    <tr>\n",
       "        <td>Black Women Authors, Fiction</td>\n",
       "        <td>2</td>\n",
       "        <td>1WOMEN</td>\n",
       "    </tr>\n",
       "    <tr>\n",
       "        <td>Black Women Authors, Fiction</td>\n",
       "        <td>2</td>\n",
       "        <td>2WOMEN</td>\n",
       "    </tr>\n",
       "</table>"
      ],
      "text/plain": [
       "[('Black Lives Matter', 1, '1BLM'),\n",
       " ('Black Lives Matter', 1, '2BLM'),\n",
       " ('Black Lives Matter', 1, '3BLM'),\n",
       " ('Black Women Authors, Fiction', 2, '1WOMEN'),\n",
       " ('Black Women Authors, Fiction', 2, '2WOMEN')]"
      ]
     },
     "execution_count": 4,
     "metadata": {},
     "output_type": "execute_result"
    }
   ],
   "source": [
    "%%sql\n",
    "SELECT\n",
    "    shelf_name,\n",
    "    user_shelves.shelf_id,\n",
    "    google_book_id\n",
    "FROM\n",
    "    (\n",
    "        SELECT\n",
    "            shelf_name,\n",
    "            us.shelf_id\n",
    "        FROM user_shelves us\n",
    "        LEFT JOIN shelves on us.shelf_id = shelves.id\n",
    "        WHERE us.user_id = 1\n",
    "    ) user_shelves\n",
    "LEFT JOIN shelf_books on user_shelves.shelf_id = shelf_books.shelf_id\n"
   ]
  },
  {
   "cell_type": "code",
   "execution_count": 7,
   "metadata": {},
   "outputs": [
    {
     "name": "stdout",
     "output_type": "stream",
     "text": [
      " * postgresql://localhost/upreads_dev\n",
      "5 rows affected.\n"
     ]
    },
    {
     "data": {
      "text/html": [
       "<table>\n",
       "    <tr>\n",
       "        <th>shelf_name</th>\n",
       "        <th>id</th>\n",
       "        <th>google_book_id</th>\n",
       "        <th>is_public</th>\n",
       "    </tr>\n",
       "    <tr>\n",
       "        <td>Black Lives Matter</td>\n",
       "        <td>1</td>\n",
       "        <td>1BLM</td>\n",
       "        <td>True</td>\n",
       "    </tr>\n",
       "    <tr>\n",
       "        <td>Black Lives Matter</td>\n",
       "        <td>1</td>\n",
       "        <td>2BLM</td>\n",
       "        <td>True</td>\n",
       "    </tr>\n",
       "    <tr>\n",
       "        <td>Black Lives Matter</td>\n",
       "        <td>1</td>\n",
       "        <td>3BLM</td>\n",
       "        <td>True</td>\n",
       "    </tr>\n",
       "    <tr>\n",
       "        <td>Black Women Authors, Fiction</td>\n",
       "        <td>2</td>\n",
       "        <td>1WOMEN</td>\n",
       "        <td>True</td>\n",
       "    </tr>\n",
       "    <tr>\n",
       "        <td>Black Women Authors, Fiction</td>\n",
       "        <td>2</td>\n",
       "        <td>2WOMEN</td>\n",
       "        <td>True</td>\n",
       "    </tr>\n",
       "</table>"
      ],
      "text/plain": [
       "[('Black Lives Matter', 1, '1BLM', True),\n",
       " ('Black Lives Matter', 1, '2BLM', True),\n",
       " ('Black Lives Matter', 1, '3BLM', True),\n",
       " ('Black Women Authors, Fiction', 2, '1WOMEN', True),\n",
       " ('Black Women Authors, Fiction', 2, '2WOMEN', True)]"
      ]
     },
     "execution_count": 7,
     "metadata": {},
     "output_type": "execute_result"
    }
   ],
   "source": [
    "%%sql\n",
    "SELECT\n",
    "    shelf_name,\n",
    "    shelves.id,\n",
    "    google_book_id\n",
    "FROM shelves\n",
    "LEFT JOIN\n",
    "    shelf_books on shelves.id = shelf_books.shelf_id\n",
    "WHERE is_public = true\n",
    ";\n",
    "\n"
   ]
  },
  {
   "cell_type": "code",
   "execution_count": 8,
   "metadata": {},
   "outputs": [
    {
     "name": "stdout",
     "output_type": "stream",
     "text": [
      " * postgresql://localhost/upreads_dev\n",
      "2 rows affected.\n"
     ]
    },
    {
     "data": {
      "text/html": [
       "<table>\n",
       "    <tr>\n",
       "        <th>id</th>\n",
       "        <th>user_id</th>\n",
       "        <th>shelf_id</th>\n",
       "    </tr>\n",
       "    <tr>\n",
       "        <td>1</td>\n",
       "        <td>1</td>\n",
       "        <td>1</td>\n",
       "    </tr>\n",
       "    <tr>\n",
       "        <td>2</td>\n",
       "        <td>1</td>\n",
       "        <td>2</td>\n",
       "    </tr>\n",
       "</table>"
      ],
      "text/plain": [
       "[(1, 1, 1), (2, 1, 2)]"
      ]
     },
     "execution_count": 8,
     "metadata": {},
     "output_type": "execute_result"
    }
   ],
   "source": [
    "%%sql\n",
    "select * from user_shelves;"
   ]
  },
  {
   "cell_type": "code",
   "execution_count": 21,
   "metadata": {},
   "outputs": [
    {
     "name": "stdout",
     "output_type": "stream",
     "text": [
      " * postgresql://localhost/upreads_dev\n",
      "5 rows affected.\n"
     ]
    },
    {
     "data": {
      "text/html": [
       "<table>\n",
       "    <tr>\n",
       "        <th>id</th>\n",
       "        <th>user_id</th>\n",
       "        <th>google_book_id</th>\n",
       "        <th>status</th>\n",
       "        <th>shelf_id</th>\n",
       "    </tr>\n",
       "    <tr>\n",
       "        <td>1</td>\n",
       "        <td>1</td>\n",
       "        <td>p7uGzQEACAAJ</td>\n",
       "        <td>unread</td>\n",
       "        <td>1</td>\n",
       "    </tr>\n",
       "    <tr>\n",
       "        <td>2</td>\n",
       "        <td>1</td>\n",
       "        <td>FylCUanlGhAC</td>\n",
       "        <td>read</td>\n",
       "        <td>1</td>\n",
       "    </tr>\n",
       "    <tr>\n",
       "        <td>3</td>\n",
       "        <td>1</td>\n",
       "        <td>ltClDwAAQBAJ</td>\n",
       "        <td>unread</td>\n",
       "        <td>1</td>\n",
       "    </tr>\n",
       "    <tr>\n",
       "        <td>4</td>\n",
       "        <td>1</td>\n",
       "        <td>r6c8DAAAQBAJ</td>\n",
       "        <td>unread</td>\n",
       "        <td>2</td>\n",
       "    </tr>\n",
       "    <tr>\n",
       "        <td>5</td>\n",
       "        <td>1</td>\n",
       "        <td>5GbdTc9OJ78C</td>\n",
       "        <td>read</td>\n",
       "        <td>1</td>\n",
       "    </tr>\n",
       "</table>"
      ],
      "text/plain": [
       "[(1, 1, 'p7uGzQEACAAJ', 'unread', 1),\n",
       " (2, 1, 'FylCUanlGhAC', 'read', 1),\n",
       " (3, 1, 'ltClDwAAQBAJ', 'unread', 1),\n",
       " (4, 1, 'r6c8DAAAQBAJ', 'unread', 2),\n",
       " (5, 1, '5GbdTc9OJ78C', 'read', 1)]"
      ]
     },
     "execution_count": 21,
     "metadata": {},
     "output_type": "execute_result"
    }
   ],
   "source": [
    "%%sql\n",
    "select * from user_books;"
   ]
  },
  {
   "cell_type": "code",
   "execution_count": null,
   "metadata": {},
   "outputs": [],
   "source": []
  }
 ],
 "metadata": {
  "kernelspec": {
   "display_name": "Python 3",
   "language": "python",
   "name": "python3"
  },
  "language_info": {
   "codemirror_mode": {
    "name": "ipython",
    "version": 3
   },
   "file_extension": ".py",
   "mimetype": "text/x-python",
   "name": "python",
   "nbconvert_exporter": "python",
   "pygments_lexer": "ipython3",
   "version": "3.7.6"
  }
 },
 "nbformat": 4,
 "nbformat_minor": 4
}
