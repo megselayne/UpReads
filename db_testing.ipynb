{
 "cells": [
  {
   "cell_type": "code",
   "execution_count": 1,
   "metadata": {},
   "outputs": [],
   "source": [
    "\n",
    "%load_ext sql"
   ]
  },
  {
   "cell_type": "code",
   "execution_count": 2,
   "metadata": {},
   "outputs": [],
   "source": [
    "%sql postgresql://localhost/upreads_dev"
   ]
  },
  {
   "cell_type": "code",
   "execution_count": 7,
   "metadata": {},
   "outputs": [
    {
     "name": "stdout",
     "output_type": "stream",
     "text": [
      " * postgresql://localhost/upreads_dev\n",
      "Done.\n"
     ]
    },
    {
     "data": {
      "text/plain": [
       "[]"
      ]
     },
     "execution_count": 7,
     "metadata": {},
     "output_type": "execute_result"
    }
   ],
   "source": [
    "%%sql\n",
    "drop table users"
   ]
  },
  {
   "cell_type": "code",
   "execution_count": 15,
   "metadata": {},
   "outputs": [
    {
     "name": "stdout",
     "output_type": "stream",
     "text": [
      " * postgresql://localhost/upreads_dev\n",
      "Done.\n"
     ]
    },
    {
     "data": {
      "text/plain": [
       "[]"
      ]
     },
     "execution_count": 15,
     "metadata": {},
     "output_type": "execute_result"
    }
   ],
   "source": [
    "%%sql\n",
    "drop table shelves"
   ]
  },
  {
   "cell_type": "code",
   "execution_count": 14,
   "metadata": {},
   "outputs": [
    {
     "name": "stdout",
     "output_type": "stream",
     "text": [
      " * postgresql://localhost/upreads_dev\n",
      "Done.\n"
     ]
    },
    {
     "data": {
      "text/plain": [
       "[]"
      ]
     },
     "execution_count": 14,
     "metadata": {},
     "output_type": "execute_result"
    }
   ],
   "source": [
    "%%sql\n",
    "drop table user_shelves"
   ]
  },
  {
   "cell_type": "code",
   "execution_count": 4,
   "metadata": {},
   "outputs": [
    {
     "name": "stdout",
     "output_type": "stream",
     "text": [
      " * postgresql://localhost/upreads_dev\n",
      "Done.\n"
     ]
    },
    {
     "data": {
      "text/plain": [
       "[]"
      ]
     },
     "execution_count": 4,
     "metadata": {},
     "output_type": "execute_result"
    }
   ],
   "source": [
    "%%sql\n",
    "drop table user_books"
   ]
  },
  {
   "cell_type": "code",
   "execution_count": 3,
   "metadata": {},
   "outputs": [
    {
     "name": "stdout",
     "output_type": "stream",
     "text": [
      " * postgresql://localhost/upreads_dev\n",
      "Done.\n"
     ]
    },
    {
     "data": {
      "text/plain": [
       "[]"
      ]
     },
     "execution_count": 3,
     "metadata": {},
     "output_type": "execute_result"
    }
   ],
   "source": [
    "%%sql\n",
    "drop table shelf_books"
   ]
  },
  {
   "cell_type": "code",
   "execution_count": 8,
   "metadata": {},
   "outputs": [
    {
     "name": "stdout",
     "output_type": "stream",
     "text": [
      " * postgresql://localhost/upreads_dev\n",
      "Done.\n"
     ]
    },
    {
     "data": {
      "text/plain": [
       "[]"
      ]
     },
     "execution_count": 8,
     "metadata": {},
     "output_type": "execute_result"
    }
   ],
   "source": [
    "%%sql\n",
    "CREATE TABLE IF NOT EXISTS users (\n",
    "    id SERIAL PRIMARY KEY,\n",
    "    username VARCHAR(255) UNIQUE NOT NULL,\n",
    "    email VARCHAR(255) UNIQUE NOT NULL,\n",
    "    password_digest TEXT NOT NULL\n",
    ");"
   ]
  },
  {
   "cell_type": "code",
   "execution_count": 16,
   "metadata": {},
   "outputs": [
    {
     "name": "stdout",
     "output_type": "stream",
     "text": [
      " * postgresql://localhost/upreads_dev\n",
      "Done.\n"
     ]
    },
    {
     "data": {
      "text/plain": [
       "[]"
      ]
     },
     "execution_count": 16,
     "metadata": {},
     "output_type": "execute_result"
    }
   ],
   "source": [
    "%%sql \n",
    "CREATE TABLE IF NOT EXISTS shelves(\n",
    "    id SERIAL PRIMARY KEY,\n",
    "    is_public BOOLEAN,\n",
    "    creator_user_id INTEGER,\n",
    "    shelf_name VARCHAR(255)\n",
    ");"
   ]
  },
  {
   "cell_type": "code",
   "execution_count": 17,
   "metadata": {},
   "outputs": [
    {
     "name": "stdout",
     "output_type": "stream",
     "text": [
      " * postgresql://localhost/upreads_dev\n",
      "Done.\n"
     ]
    },
    {
     "data": {
      "text/plain": [
       "[]"
      ]
     },
     "execution_count": 17,
     "metadata": {},
     "output_type": "execute_result"
    }
   ],
   "source": [
    "%%sql \n",
    "CREATE TABLE IF NOT EXISTS user_shelves(\n",
    "    id SERIAL PRIMARY KEY,\n",
    "    user_id INTEGER,\n",
    "    shelf_id INTEGER REFERENCES shelves(id),\n",
    "    UNIQUE (user_id, shelf_id)\n",
    ");"
   ]
  },
  {
   "cell_type": "code",
   "execution_count": 11,
   "metadata": {},
   "outputs": [
    {
     "name": "stdout",
     "output_type": "stream",
     "text": [
      " * postgresql://localhost/upreads_dev\n",
      "Done.\n"
     ]
    },
    {
     "data": {
      "text/plain": [
       "[]"
      ]
     },
     "execution_count": 11,
     "metadata": {},
     "output_type": "execute_result"
    }
   ],
   "source": [
    "%%sql \n",
    "CREATE TABLE IF NOT EXISTS user_books(\n",
    "    id SERIAL PRIMARY KEY,\n",
    "    user_id INTEGER,\n",
    "    google_book_id VARCHAR(255),\n",
    "    status VARCHAR(255),\n",
    "    shelf_id INTEGER,\n",
    "    title VARCHAR(255),\n",
    "    author VARCHAR(255),\n",
    "    cover_img VARCHAR(1000),\n",
    "    UNIQUE(user_id, shelf_id, google_book_id)\n",
    ");"
   ]
  },
  {
   "cell_type": "code",
   "execution_count": 12,
   "metadata": {},
   "outputs": [
    {
     "name": "stdout",
     "output_type": "stream",
     "text": [
      " * postgresql://localhost/upreads_dev\n",
      "Done.\n"
     ]
    },
    {
     "data": {
      "text/plain": [
       "[]"
      ]
     },
     "execution_count": 12,
     "metadata": {},
     "output_type": "execute_result"
    }
   ],
   "source": [
    "%%sql\n",
    "CREATE TABLE IF NOT EXISTS shelf_books(\n",
    "    id SERIAL PRIMARY KEY,\n",
    "    shelf_id INTEGER,\n",
    "    google_book_id VARCHAR(255),\n",
    "    title VARCHAR(255),\n",
    "    author VARCHAR(255),\n",
    "    cover_img VARCHAR(1000)\n",
    ");   "
   ]
  },
  {
   "cell_type": "code",
   "execution_count": 4,
   "metadata": {},
   "outputs": [
    {
     "name": "stdout",
     "output_type": "stream",
     "text": [
      " * postgresql://localhost/upreads_dev\n",
      "2 rows affected.\n"
     ]
    },
    {
     "data": {
      "text/plain": [
       "[]"
      ]
     },
     "execution_count": 4,
     "metadata": {},
     "output_type": "execute_result"
    }
   ],
   "source": [
    "%%sql \n",
    "INSERT INTO shelves\n",
    "    (is_public, creator_user_id, shelf_name)\n",
    "VALUES\n",
    "    (true, 1, 'Black Lives Matter'),\n",
    "    (true, 2, 'Black Women Authors, Fiction')\n",
    ";    "
   ]
  },
  {
   "cell_type": "code",
   "execution_count": 5,
   "metadata": {},
   "outputs": [
    {
     "name": "stdout",
     "output_type": "stream",
     "text": [
      " * postgresql://localhost/upreads_dev\n",
      "2 rows affected.\n"
     ]
    },
    {
     "data": {
      "text/plain": [
       "[]"
      ]
     },
     "execution_count": 5,
     "metadata": {},
     "output_type": "execute_result"
    }
   ],
   "source": [
    "%%sql\n",
    "INSERT INTO user_shelves\n",
    "    (user_id, shelf_id)\n",
    "VALUES\n",
    "    (1, 1),\n",
    "    (2, 2)\n",
    ";"
   ]
  },
  {
   "cell_type": "code",
   "execution_count": 6,
   "metadata": {},
   "outputs": [
    {
     "name": "stdout",
     "output_type": "stream",
     "text": [
      " * postgresql://localhost/upreads_dev\n",
      "3 rows affected.\n"
     ]
    },
    {
     "data": {
      "text/plain": [
       "[]"
      ]
     },
     "execution_count": 6,
     "metadata": {},
     "output_type": "execute_result"
    }
   ],
   "source": [
    "%%sql\n",
    "INSERT INTO shelf_books\n",
    "    (shelf_id, google_book_id, title, author, cover_img)\n",
    "VALUES\n",
    "    (1, 'REKIbk12HxkC', 'Point Blank', 'Anthony Horowitz', 'http://books.google.com/books/content?id=REKIbk12HxkC&printsec=frontcover&img=1&zoom=5&edge=curl&source=gbs_api'),\n",
    "    (1, 'cYzzDwAAQBAJ', 'Alex Rider: Secret Weapon', 'Anthony Horowitz', 'http://books.google.com/books/content?id=cYzzDwAAQBAJ&printsec=frontcover&img=1&zoom=5&edge=curl&source=gbs_api' ),\n",
    "    (2, 'wSSZDwAAQBAJ', 'Nightshade', 'Anthony Horowitz', 'http://books.google.com/books/content?id=wSSZDwAAQBAJ&printsec=frontcover&img=1&zoom=5&edge=curl&source=gbs_api')\n",
    ";"
   ]
  },
  {
   "cell_type": "code",
   "execution_count": 7,
   "metadata": {},
   "outputs": [
    {
     "name": "stdout",
     "output_type": "stream",
     "text": [
      " * postgresql://localhost/upreads_dev\n",
      "3 rows affected.\n"
     ]
    },
    {
     "data": {
      "text/plain": [
       "[]"
      ]
     },
     "execution_count": 7,
     "metadata": {},
     "output_type": "execute_result"
    }
   ],
   "source": [
    "%%sql\n",
    "INSERT INTO user_books\n",
    "    (user_id, status, google_book_id, shelf_id, title, author, cover_img)\n",
    "VALUES\n",
    "    (1, 'unread', 'REKIbk12HxkC', 1, 'Point Blank', 'Anthony Horowitz', 'http://books.google.com/books/content?id=REKIbk12HxkC&printsec=frontcover&img=1&zoom=5&edge=curl&source=gbs_api'),\n",
    "    (1, 'unread','cYzzDwAAQBAJ', 1, 'Alex Rider: Secret Weapon', 'Anthony Horowitz', 'http://books.google.com/books/content?id=cYzzDwAAQBAJ&printsec=frontcover&img=1&zoom=5&edge=curl&source=gbs_api' ),\n",
    "    (2, 'unread', 'wSSZDwAAQBAJ', 2, 'Nightshade', 'Anthony Horowitz', 'http://books.google.com/books/content?id=wSSZDwAAQBAJ&printsec=frontcover&img=1&zoom=5&edge=curl&source=gbs_api')\n",
    "    ;"
   ]
  },
  {
   "cell_type": "markdown",
   "metadata": {},
   "source": [
    "## Get user books\n",
    "- get all books that a user has saved by shelf"
   ]
  },
  {
   "cell_type": "code",
   "execution_count": 16,
   "metadata": {},
   "outputs": [
    {
     "name": "stdout",
     "output_type": "stream",
     "text": [
      " * postgresql://localhost/upreads_dev\n",
      "2 rows affected.\n"
     ]
    },
    {
     "data": {
      "text/html": [
       "<table>\n",
       "    <tr>\n",
       "        <th>id</th>\n",
       "        <th>user_id</th>\n",
       "        <th>google_book_id</th>\n",
       "        <th>status</th>\n",
       "        <th>shelf_id</th>\n",
       "        <th>title</th>\n",
       "        <th>author</th>\n",
       "        <th>cover_img</th>\n",
       "    </tr>\n",
       "    <tr>\n",
       "        <td>1</td>\n",
       "        <td>1</td>\n",
       "        <td>REKIbk12HxkC</td>\n",
       "        <td>unread</td>\n",
       "        <td>1</td>\n",
       "        <td>Point Blank</td>\n",
       "        <td>Anthony Horowitz</td>\n",
       "        <td>http://books.google.com/books/content?id=REKIbk12HxkC&amp;printsec=frontcover&amp;img=1&amp;zoom=5&amp;edge=curl&amp;source=gbs_api</td>\n",
       "    </tr>\n",
       "    <tr>\n",
       "        <td>2</td>\n",
       "        <td>1</td>\n",
       "        <td>cYzzDwAAQBAJ</td>\n",
       "        <td>unread</td>\n",
       "        <td>1</td>\n",
       "        <td>Alex Rider: Secret Weapon</td>\n",
       "        <td>Anthony Horowitz</td>\n",
       "        <td>http://books.google.com/books/content?id=cYzzDwAAQBAJ&amp;printsec=frontcover&amp;img=1&amp;zoom=5&amp;edge=curl&amp;source=gbs_api</td>\n",
       "    </tr>\n",
       "</table>"
      ],
      "text/plain": [
       "[(1, 1, 'REKIbk12HxkC', 'unread', 1, 'Point Blank', 'Anthony Horowitz', 'http://books.google.com/books/content?id=REKIbk12HxkC&printsec=frontcover&img=1&zoom=5&edge=curl&source=gbs_api'),\n",
       " (2, 1, 'cYzzDwAAQBAJ', 'unread', 1, 'Alex Rider: Secret Weapon', 'Anthony Horowitz', 'http://books.google.com/books/content?id=cYzzDwAAQBAJ&printsec=frontcover&img=1&zoom=5&edge=curl&source=gbs_api')]"
      ]
     },
     "execution_count": 16,
     "metadata": {},
     "output_type": "execute_result"
    }
   ],
   "source": [
    "%%sql\n",
    "select * from user_books where user_id = 1;"
   ]
  },
  {
   "cell_type": "code",
   "execution_count": 4,
   "metadata": {},
   "outputs": [
    {
     "name": "stdout",
     "output_type": "stream",
     "text": [
      " * postgresql://localhost/upreads_dev\n",
      "5 rows affected.\n"
     ]
    },
    {
     "data": {
      "text/html": [
       "<table>\n",
       "    <tr>\n",
       "        <th>shelf_name</th>\n",
       "        <th>shelf_id</th>\n",
       "        <th>google_book_id</th>\n",
       "    </tr>\n",
       "    <tr>\n",
       "        <td>Black Lives Matter</td>\n",
       "        <td>1</td>\n",
       "        <td>1BLM</td>\n",
       "    </tr>\n",
       "    <tr>\n",
       "        <td>Black Lives Matter</td>\n",
       "        <td>1</td>\n",
       "        <td>2BLM</td>\n",
       "    </tr>\n",
       "    <tr>\n",
       "        <td>Black Lives Matter</td>\n",
       "        <td>1</td>\n",
       "        <td>3BLM</td>\n",
       "    </tr>\n",
       "    <tr>\n",
       "        <td>Black Women Authors, Fiction</td>\n",
       "        <td>2</td>\n",
       "        <td>1WOMEN</td>\n",
       "    </tr>\n",
       "    <tr>\n",
       "        <td>Black Women Authors, Fiction</td>\n",
       "        <td>2</td>\n",
       "        <td>2WOMEN</td>\n",
       "    </tr>\n",
       "</table>"
      ],
      "text/plain": [
       "[('Black Lives Matter', 1, '1BLM'),\n",
       " ('Black Lives Matter', 1, '2BLM'),\n",
       " ('Black Lives Matter', 1, '3BLM'),\n",
       " ('Black Women Authors, Fiction', 2, '1WOMEN'),\n",
       " ('Black Women Authors, Fiction', 2, '2WOMEN')]"
      ]
     },
     "execution_count": 4,
     "metadata": {},
     "output_type": "execute_result"
    }
   ],
   "source": [
    "%%sql\n",
    "SELECT\n",
    "    shelf_name,\n",
    "    user_shelves.shelf_id,\n",
    "    google_book_id\n",
    "FROM\n",
    "    (\n",
    "        SELECT\n",
    "            shelf_name,\n",
    "            us.shelf_id\n",
    "        FROM user_shelves us\n",
    "        LEFT JOIN shelves on us.shelf_id = shelves.id\n",
    "        WHERE us.user_id = 1\n",
    "    ) user_shelves\n",
    "LEFT JOIN shelf_books on user_shelves.shelf_id = shelf_books.shelf_id\n"
   ]
  },
  {
   "cell_type": "markdown",
   "metadata": {},
   "source": [
    "## user shelf books with read status"
   ]
  },
  {
   "cell_type": "code",
   "execution_count": 5,
   "metadata": {},
   "outputs": [
    {
     "name": "stdout",
     "output_type": "stream",
     "text": [
      " * postgresql://localhost/upreads_dev\n",
      "12 rows affected.\n"
     ]
    },
    {
     "data": {
      "text/html": [
       "<table>\n",
       "    <tr>\n",
       "        <th>shelf_name</th>\n",
       "        <th>shelf_id</th>\n",
       "        <th>google_book_id</th>\n",
       "        <th>title</th>\n",
       "        <th>author</th>\n",
       "        <th>cover_img</th>\n",
       "        <th>status</th>\n",
       "    </tr>\n",
       "    <tr>\n",
       "        <td>Black Feminist Philosophy</td>\n",
       "        <td>1</td>\n",
       "        <td>icWTAgAAQBAJ</td>\n",
       "        <td>Black Feminist Thought</td>\n",
       "        <td>Patricia Hill Collins</td>\n",
       "        <td>http://books.google.com/books/content?id=icWTAgAAQBAJ&amp;printsec=frontcover&amp;img=1&amp;zoom=5&amp;edge=curl&amp;imgtk=AFLRE72AYQvAC83-wuxVSWFev2jsoACkAQ4rTgAwtyxD_VZuq-QWFa4Tz33pR5u3NlGdk6bp5itJVn4qp5mM9RcjFQxNbUF3vWscokL7E8BvKR4KI2dKJCnHFjH_6BwCszp4b4CDr0g3&amp;source=gbs_api</td>\n",
       "        <td>unread</td>\n",
       "    </tr>\n",
       "    <tr>\n",
       "        <td>Black Feminist Philosophy</td>\n",
       "        <td>1</td>\n",
       "        <td>m0TJX5mc6gcC</td>\n",
       "        <td>In Search of Our Mothers Gardens</td>\n",
       "        <td>Alice Walker</td>\n",
       "        <td>http://books.google.com/books/content?id=m0TJX5mc6gcC&amp;printsec=frontcover&amp;img=1&amp;zoom=5&amp;edge=curl&amp;imgtk=AFLRE700mQ4_pxsqXN98b2JtbcZZHjSpBaceGh_KcPssChC4ysPZhlZnw5h6JGeEyCkjp-AkobUMdX_83b8DVSdhzY2723ZOcZVZGVnx62-T92EroxtlLCWtXpWSBivsS_788lU5Evqq&amp;source=gbs_api</td>\n",
       "        <td>unread</td>\n",
       "    </tr>\n",
       "    <tr>\n",
       "        <td>Black Feminist Philosophy</td>\n",
       "        <td>1</td>\n",
       "        <td>MpN0ikR6-f4C</td>\n",
       "        <td>Talking Back</td>\n",
       "        <td>Bell Hooks</td>\n",
       "        <td>http://books.google.com/books/content?id=MpN0ikR6-f4C&amp;printsec=frontcover&amp;img=1&amp;zoom=5&amp;edge=curl&amp;imgtk=AFLRE73q_gVGvkQtcuOqGromv7vRrumiNhOLgjPB04bz2A4X4iPin1rZCl3XPSB_VgFBOXnWMWQ-hVzPMT3RIK6gKU4hWFQS2dtDU0KWzfDLqnEsgBVFm_WVRGYSwjzWVDXu4Ql0lMer&amp;source=gbs_api</td>\n",
       "        <td>unread</td>\n",
       "    </tr>\n",
       "    <tr>\n",
       "        <td>Black Feminist Philosophy</td>\n",
       "        <td>1</td>\n",
       "        <td>_wZ35GI4itgC</td>\n",
       "        <td>Are Prisons Obsolete</td>\n",
       "        <td>Angela Y. Davis</td>\n",
       "        <td>http://books.google.com/books/content?id=_wZ35GI4itgC&amp;printsec=frontcover&amp;img=1&amp;zoom=5&amp;edge=curl&amp;imgtk=AFLRE72xKbdbr27W3mXND4ubZ7szKnva4iPHvo66Ey9bM1ncWY68mP527tKfwhtXpqfTyxoyhEssEhZYYXQmrdPIttGucXUylZLLNB-F-fCvBu3k4zr4aOKxtlH4Edp7_IuMbzPhfEdQ&amp;source=gbs_api</td>\n",
       "        <td>unread</td>\n",
       "    </tr>\n",
       "    <tr>\n",
       "        <td>Fiction by Women of Color</td>\n",
       "        <td>2</td>\n",
       "        <td>JTHJDwAAQBAJ</td>\n",
       "        <td>The Girl with the Louding Voice</td>\n",
       "        <td>Abi Daré</td>\n",
       "        <td>http://books.google.com/books/content?id=JTHJDwAAQBAJ&amp;printsec=frontcover&amp;img=1&amp;zoom=5&amp;edge=curl&amp;imgtk=AFLRE711DR1MWVnGwNpP16GOgJTcHNMioxLUa-h2zP92apn-Wh7aMWu3vKRcJeUMg4-BXS5l0lbeO3QsoE9MFdt0zvCtk-9GUNBW8j46vp4mroRtuYB0nZo17Zz-etnrPjH6rjmjzyeY&amp;source=gbs_api</td>\n",
       "        <td>unread</td>\n",
       "    </tr>\n",
       "    <tr>\n",
       "        <td>Fiction by Women of Color</td>\n",
       "        <td>2</td>\n",
       "        <td>elmSDwAAQBAJ</td>\n",
       "        <td>Such a Fun Age</td>\n",
       "        <td>Kiley Reid</td>\n",
       "        <td>http://books.google.com/books/content?id=elmSDwAAQBAJ&amp;printsec=frontcover&amp;img=1&amp;zoom=5&amp;edge=curl&amp;imgtk=AFLRE71cOs1wWPhTR-0nbI0t4bQ-dFCofUH5kF8w4Us5SlHC1xH3DuBqavOYYGwSZxDxWltto2TptUBms247xc8BV9sN-FZGyHF9fVACw_7RDNK0ecDiaAoNvc5MEInUbC4RqV6Xg1BR&amp;source=gbs_api</td>\n",
       "        <td>unread</td>\n",
       "    </tr>\n",
       "    <tr>\n",
       "        <td>Fiction by Women of Color</td>\n",
       "        <td>2</td>\n",
       "        <td>VzTXsgEACAAJ</td>\n",
       "        <td>Behold the Dreamers</td>\n",
       "        <td>Ombolo Mbue</td>\n",
       "        <td>http://books.google.com/books/content?id=VzTXsgEACAAJ&amp;printsec=frontcover&amp;img=1&amp;zoom=5&amp;imgtk=AFLRE70PK821YI_wmKVuG6KQ7OcKI0WwCeokLXJuw5vWQW1NCEZ_mvMW97IThxpt11ViJGZuRhVFMyUYQpsG8r0FcEORhUA_nZDafMZjsjhliNHdG7jZaGIV0cQyULQLbVPNMtYTxMmb&amp;source=gbs_api</td>\n",
       "        <td>unread</td>\n",
       "    </tr>\n",
       "    <tr>\n",
       "        <td>Fiction by Women of Color</td>\n",
       "        <td>2</td>\n",
       "        <td>KQA9DwAAQBAJ</td>\n",
       "        <td>Fruit of the Drunken Tree</td>\n",
       "        <td>Ingrid Rojas Conteras</td>\n",
       "        <td>http://books.google.com/books/content?id=KQA9DwAAQBAJ&amp;printsec=frontcover&amp;img=1&amp;zoom=5&amp;edge=curl&amp;imgtk=AFLRE70bdbtaE4L2XABjbasJ07EZjfQZYWtXFIo1ukDp-MgP1hkriyIwnHP304b5dKLzzU12Qe4aC12aYM-O7R3Gzg-ejaZAQmz-cDfVt-xR6DHFkr2XnqCfn379ryBuFfb4U41E1Jhn&amp;source=gbs_api</td>\n",
       "        <td>unread</td>\n",
       "    </tr>\n",
       "    <tr>\n",
       "        <td>Fiction by Women of Color</td>\n",
       "        <td>2</td>\n",
       "        <td>sfmp6gjZGP8C</td>\n",
       "        <td>Beloved</td>\n",
       "        <td>Toni Morrison</td>\n",
       "        <td>http://books.google.com/books/content?id=sfmp6gjZGP8C&amp;printsec=frontcover&amp;img=1&amp;zoom=5&amp;edge=curl&amp;imgtk=AFLRE71jjtky4x_iPiVPLEQYSGpO9jog9Nz8ut14kQGlRl45MuOaBU21FnBIJSYtGIe3dFr0Ksa0iEC9jUkKJrseEwuoBDmShVOIjUmC4BefIp5fQhrk8qbIOOo3n3Kx5uazBexzUjdp&amp;source=gbs_api</td>\n",
       "        <td>unread</td>\n",
       "    </tr>\n",
       "    <tr>\n",
       "        <td>Ruth Bader Ginsburg</td>\n",
       "        <td>3</td>\n",
       "        <td>u5DyDwAAQBAJ</td>\n",
       "        <td>Ruth Bader Ginsburg</td>\n",
       "        <td>Jane Sherron de Hart</td>\n",
       "        <td>http://books.google.com/books/content?id=u5DyDwAAQBAJ&amp;printsec=frontcover&amp;img=1&amp;zoom=5&amp;edge=curl&amp;imgtk=AFLRE72L1OtKcmqa7v78lIi3hihVhcZpsxNf5rfAs0dlPpyfoQ0TbBiXb4oM6AlvSXSIKmj-KZZmL8fkM1QEvvr02TO0_aOGBup3AZaRR9n_UsonSQMaL6pVhgdz4vcj_IbLFgFrp0kh&amp;source=gbs_api</td>\n",
       "        <td>unread</td>\n",
       "    </tr>\n",
       "    <tr>\n",
       "        <td>Ruth Bader Ginsburg</td>\n",
       "        <td>3</td>\n",
       "        <td>-lWzBgAAQBAJ</td>\n",
       "        <td>Notorious RBG</td>\n",
       "        <td>Irin Carmon</td>\n",
       "        <td>http://books.google.com/books/content?id=-lWzBgAAQBAJ&amp;printsec=frontcover&amp;img=1&amp;zoom=5&amp;edge=curl&amp;imgtk=AFLRE73zcNP7EnKC_uNpLgJo_eckzKTsbfz_Wca2GQbaqbQixIQjFUgrt72V3dXzwdn1jCquCX8WGviOw8crSswmLiZTVgrmFhYHOT1n-xwQYPmosbjOflFU3prFjiWTiX9H8A3G9rk9&amp;source=gbs_api</td>\n",
       "        <td>unread</td>\n",
       "    </tr>\n",
       "    <tr>\n",
       "        <td>Ruth Bader Ginsburg</td>\n",
       "        <td>3</td>\n",
       "        <td>nXsmDQAAQBAJ</td>\n",
       "        <td>My Own Words</td>\n",
       "        <td>Ruth Bader Ginsburg</td>\n",
       "        <td>http://books.google.com/books/content?id=nXsmDQAAQBAJ&amp;printsec=frontcover&amp;img=1&amp;zoom=5&amp;edge=curl&amp;imgtk=AFLRE71ZOcgrjRxriLX1IlkIbUloA0Hy5Q-nfRmHmMBTKSdTWMlVAsCxDFwefb-h08gx_aScVoesqkB6CVGIqZ_Qhh6-YxwaC-iNORNZTKXCxQCPhGYRnwTCa1JNLIAGlF-qjz7tsohx&amp;source=gbs_api</td>\n",
       "        <td>unread</td>\n",
       "    </tr>\n",
       "</table>"
      ],
      "text/plain": [
       "[('Black Feminist Philosophy', 1, 'icWTAgAAQBAJ', 'Black Feminist Thought', 'Patricia Hill Collins', 'http://books.google.com/books/content?id=icWTAgAAQBAJ&printsec=frontcover&img=1&zoom=5&edge=curl&imgtk=AFLRE72AYQvAC83-wuxVSWFev2jsoACkAQ4rTgAwtyxD_VZuq-QWFa4Tz33pR5u3NlGdk6bp5itJVn4qp5mM9RcjFQxNbUF3vWscokL7E8BvKR4KI2dKJCnHFjH_6BwCszp4b4CDr0g3&source=gbs_api', 'unread'),\n",
       " ('Black Feminist Philosophy', 1, 'm0TJX5mc6gcC', 'In Search of Our Mothers Gardens', 'Alice Walker', 'http://books.google.com/books/content?id=m0TJX5mc6gcC&printsec=frontcover&img=1&zoom=5&edge=curl&imgtk=AFLRE700mQ4_pxsqXN98b2JtbcZZHjSpBaceGh_KcPssChC4ysPZhlZnw5h6JGeEyCkjp-AkobUMdX_83b8DVSdhzY2723ZOcZVZGVnx62-T92EroxtlLCWtXpWSBivsS_788lU5Evqq&source=gbs_api', 'unread'),\n",
       " ('Black Feminist Philosophy', 1, 'MpN0ikR6-f4C', 'Talking Back', 'Bell Hooks', 'http://books.google.com/books/content?id=MpN0ikR6-f4C&printsec=frontcover&img=1&zoom=5&edge=curl&imgtk=AFLRE73q_gVGvkQtcuOqGromv7vRrumiNhOLgjPB04bz2A4X4iPin1rZCl3XPSB_VgFBOXnWMWQ-hVzPMT3RIK6gKU4hWFQS2dtDU0KWzfDLqnEsgBVFm_WVRGYSwjzWVDXu4Ql0lMer&source=gbs_api', 'unread'),\n",
       " ('Black Feminist Philosophy', 1, '_wZ35GI4itgC', 'Are Prisons Obsolete', 'Angela Y. Davis', 'http://books.google.com/books/content?id=_wZ35GI4itgC&printsec=frontcover&img=1&zoom=5&edge=curl&imgtk=AFLRE72xKbdbr27W3mXND4ubZ7szKnva4iPHvo66Ey9bM1ncWY68mP527tKfwhtXpqfTyxoyhEssEhZYYXQmrdPIttGucXUylZLLNB-F-fCvBu3k4zr4aOKxtlH4Edp7_IuMbzPhfEdQ&source=gbs_api', 'unread'),\n",
       " ('Fiction by Women of Color', 2, 'JTHJDwAAQBAJ', 'The Girl with the Louding Voice', 'Abi Daré', 'http://books.google.com/books/content?id=JTHJDwAAQBAJ&printsec=frontcover&img=1&zoom=5&edge=curl&imgtk=AFLRE711DR1MWVnGwNpP16GOgJTcHNMioxLUa-h2zP92apn-Wh7aMWu3vKRcJeUMg4-BXS5l0lbeO3QsoE9MFdt0zvCtk-9GUNBW8j46vp4mroRtuYB0nZo17Zz-etnrPjH6rjmjzyeY&source=gbs_api', 'unread'),\n",
       " ('Fiction by Women of Color', 2, 'elmSDwAAQBAJ', 'Such a Fun Age', 'Kiley Reid', 'http://books.google.com/books/content?id=elmSDwAAQBAJ&printsec=frontcover&img=1&zoom=5&edge=curl&imgtk=AFLRE71cOs1wWPhTR-0nbI0t4bQ-dFCofUH5kF8w4Us5SlHC1xH3DuBqavOYYGwSZxDxWltto2TptUBms247xc8BV9sN-FZGyHF9fVACw_7RDNK0ecDiaAoNvc5MEInUbC4RqV6Xg1BR&source=gbs_api', 'unread'),\n",
       " ('Fiction by Women of Color', 2, 'VzTXsgEACAAJ', 'Behold the Dreamers', 'Ombolo Mbue', 'http://books.google.com/books/content?id=VzTXsgEACAAJ&printsec=frontcover&img=1&zoom=5&imgtk=AFLRE70PK821YI_wmKVuG6KQ7OcKI0WwCeokLXJuw5vWQW1NCEZ_mvMW97IThxpt11ViJGZuRhVFMyUYQpsG8r0FcEORhUA_nZDafMZjsjhliNHdG7jZaGIV0cQyULQLbVPNMtYTxMmb&source=gbs_api', 'unread'),\n",
       " ('Fiction by Women of Color', 2, 'KQA9DwAAQBAJ', 'Fruit of the Drunken Tree', 'Ingrid Rojas Conteras', 'http://books.google.com/books/content?id=KQA9DwAAQBAJ&printsec=frontcover&img=1&zoom=5&edge=curl&imgtk=AFLRE70bdbtaE4L2XABjbasJ07EZjfQZYWtXFIo1ukDp-MgP1hkriyIwnHP304b5dKLzzU12Qe4aC12aYM-O7R3Gzg-ejaZAQmz-cDfVt-xR6DHFkr2XnqCfn379ryBuFfb4U41E1Jhn&source=gbs_api', 'unread'),\n",
       " ('Fiction by Women of Color', 2, 'sfmp6gjZGP8C', 'Beloved', 'Toni Morrison', 'http://books.google.com/books/content?id=sfmp6gjZGP8C&printsec=frontcover&img=1&zoom=5&edge=curl&imgtk=AFLRE71jjtky4x_iPiVPLEQYSGpO9jog9Nz8ut14kQGlRl45MuOaBU21FnBIJSYtGIe3dFr0Ksa0iEC9jUkKJrseEwuoBDmShVOIjUmC4BefIp5fQhrk8qbIOOo3n3Kx5uazBexzUjdp&source=gbs_api', 'unread'),\n",
       " ('Ruth Bader Ginsburg', 3, 'u5DyDwAAQBAJ', 'Ruth Bader Ginsburg', 'Jane Sherron de Hart', 'http://books.google.com/books/content?id=u5DyDwAAQBAJ&printsec=frontcover&img=1&zoom=5&edge=curl&imgtk=AFLRE72L1OtKcmqa7v78lIi3hihVhcZpsxNf5rfAs0dlPpyfoQ0TbBiXb4oM6AlvSXSIKmj-KZZmL8fkM1QEvvr02TO0_aOGBup3AZaRR9n_UsonSQMaL6pVhgdz4vcj_IbLFgFrp0kh&source=gbs_api', 'unread'),\n",
       " ('Ruth Bader Ginsburg', 3, '-lWzBgAAQBAJ', 'Notorious RBG', 'Irin Carmon', 'http://books.google.com/books/content?id=-lWzBgAAQBAJ&printsec=frontcover&img=1&zoom=5&edge=curl&imgtk=AFLRE73zcNP7EnKC_uNpLgJo_eckzKTsbfz_Wca2GQbaqbQixIQjFUgrt72V3dXzwdn1jCquCX8WGviOw8crSswmLiZTVgrmFhYHOT1n-xwQYPmosbjOflFU3prFjiWTiX9H8A3G9rk9&source=gbs_api', 'unread'),\n",
       " ('Ruth Bader Ginsburg', 3, 'nXsmDQAAQBAJ', 'My Own Words', 'Ruth Bader Ginsburg', 'http://books.google.com/books/content?id=nXsmDQAAQBAJ&printsec=frontcover&img=1&zoom=5&edge=curl&imgtk=AFLRE71ZOcgrjRxriLX1IlkIbUloA0Hy5Q-nfRmHmMBTKSdTWMlVAsCxDFwefb-h08gx_aScVoesqkB6CVGIqZ_Qhh6-YxwaC-iNORNZTKXCxQCPhGYRnwTCa1JNLIAGlF-qjz7tsohx&source=gbs_api', 'unread')]"
      ]
     },
     "execution_count": 5,
     "metadata": {},
     "output_type": "execute_result"
    }
   ],
   "source": [
    "%%sql\n",
    "SELECT\n",
    "    u_books.shelf_name,\n",
    "    u_books.shelf_id,\n",
    "    u_books.google_book_id,\n",
    "    u_books.title,\n",
    "    u_books.author,\n",
    "    u_books.cover_img,\n",
    "    status\n",
    "FROM(\n",
    "    SELECT\n",
    "        shelf_name,\n",
    "        user_shelves.shelf_id as shelf_id,\n",
    "        google_book_id,\n",
    "        title,\n",
    "        author,\n",
    "        cover_img\n",
    "    FROM\n",
    "        (\n",
    "            SELECT\n",
    "                shelf_name,\n",
    "                us.shelf_id\n",
    "            FROM user_shelves us\n",
    "            LEFT JOIN shelves on us.shelf_id = shelves.id\n",
    "            WHERE us.user_id = 1\n",
    "        ) user_shelves\n",
    "    LEFT JOIN shelf_books on user_shelves.shelf_id = shelf_books.shelf_id\n",
    "    ) u_books\n",
    "LEFT JOIN user_books on u_books.shelf_id = user_books.shelf_id\n",
    "    AND u_books.google_book_id = user_books.google_book_id\n"
   ]
  },
  {
   "cell_type": "code",
   "execution_count": 7,
   "metadata": {},
   "outputs": [
    {
     "name": "stdout",
     "output_type": "stream",
     "text": [
      " * postgresql://localhost/upreads_dev\n",
      "5 rows affected.\n"
     ]
    },
    {
     "data": {
      "text/html": [
       "<table>\n",
       "    <tr>\n",
       "        <th>shelf_name</th>\n",
       "        <th>id</th>\n",
       "        <th>google_book_id</th>\n",
       "        <th>is_public</th>\n",
       "    </tr>\n",
       "    <tr>\n",
       "        <td>Black Lives Matter</td>\n",
       "        <td>1</td>\n",
       "        <td>1BLM</td>\n",
       "        <td>True</td>\n",
       "    </tr>\n",
       "    <tr>\n",
       "        <td>Black Lives Matter</td>\n",
       "        <td>1</td>\n",
       "        <td>2BLM</td>\n",
       "        <td>True</td>\n",
       "    </tr>\n",
       "    <tr>\n",
       "        <td>Black Lives Matter</td>\n",
       "        <td>1</td>\n",
       "        <td>3BLM</td>\n",
       "        <td>True</td>\n",
       "    </tr>\n",
       "    <tr>\n",
       "        <td>Black Women Authors, Fiction</td>\n",
       "        <td>2</td>\n",
       "        <td>1WOMEN</td>\n",
       "        <td>True</td>\n",
       "    </tr>\n",
       "    <tr>\n",
       "        <td>Black Women Authors, Fiction</td>\n",
       "        <td>2</td>\n",
       "        <td>2WOMEN</td>\n",
       "        <td>True</td>\n",
       "    </tr>\n",
       "</table>"
      ],
      "text/plain": [
       "[('Black Lives Matter', 1, '1BLM', True),\n",
       " ('Black Lives Matter', 1, '2BLM', True),\n",
       " ('Black Lives Matter', 1, '3BLM', True),\n",
       " ('Black Women Authors, Fiction', 2, '1WOMEN', True),\n",
       " ('Black Women Authors, Fiction', 2, '2WOMEN', True)]"
      ]
     },
     "execution_count": 7,
     "metadata": {},
     "output_type": "execute_result"
    }
   ],
   "source": [
    "%%sql\n",
    "SELECT\n",
    "    shelf_name,\n",
    "    shelves.id,\n",
    "    google_book_id\n",
    "FROM shelves\n",
    "LEFT JOIN\n",
    "    shelf_books on shelves.id = shelf_books.shelf_id\n",
    "WHERE is_public = true\n",
    ";\n",
    "\n"
   ]
  },
  {
   "cell_type": "code",
   "execution_count": 8,
   "metadata": {},
   "outputs": [
    {
     "name": "stdout",
     "output_type": "stream",
     "text": [
      " * postgresql://localhost/upreads_dev\n",
      "2 rows affected.\n"
     ]
    },
    {
     "data": {
      "text/html": [
       "<table>\n",
       "    <tr>\n",
       "        <th>id</th>\n",
       "        <th>user_id</th>\n",
       "        <th>shelf_id</th>\n",
       "    </tr>\n",
       "    <tr>\n",
       "        <td>1</td>\n",
       "        <td>1</td>\n",
       "        <td>1</td>\n",
       "    </tr>\n",
       "    <tr>\n",
       "        <td>2</td>\n",
       "        <td>1</td>\n",
       "        <td>2</td>\n",
       "    </tr>\n",
       "</table>"
      ],
      "text/plain": [
       "[(1, 1, 1), (2, 1, 2)]"
      ]
     },
     "execution_count": 8,
     "metadata": {},
     "output_type": "execute_result"
    }
   ],
   "source": [
    "%%sql\n",
    "select * from user_shelves;"
   ]
  },
  {
   "cell_type": "code",
   "execution_count": 46,
   "metadata": {},
   "outputs": [
    {
     "name": "stdout",
     "output_type": "stream",
     "text": [
      " * postgresql://localhost/upreads_dev\n",
      "3 rows affected.\n"
     ]
    },
    {
     "data": {
      "text/html": [
       "<table>\n",
       "    <tr>\n",
       "        <th>id</th>\n",
       "        <th>user_id</th>\n",
       "        <th>google_book_id</th>\n",
       "        <th>status</th>\n",
       "        <th>shelf_id</th>\n",
       "        <th>title</th>\n",
       "        <th>author</th>\n",
       "        <th>cover_img</th>\n",
       "    </tr>\n",
       "    <tr>\n",
       "        <td>1</td>\n",
       "        <td>1</td>\n",
       "        <td>REKIbk12HxkC</td>\n",
       "        <td>unread</td>\n",
       "        <td>1</td>\n",
       "        <td>Point Blank</td>\n",
       "        <td>Anthony Horowitz</td>\n",
       "        <td>http://books.google.com/books/content?id=REKIbk12HxkC&amp;printsec=frontcover&amp;img=1&amp;zoom=5&amp;edge=curl&amp;source=gbs_api</td>\n",
       "    </tr>\n",
       "    <tr>\n",
       "        <td>2</td>\n",
       "        <td>1</td>\n",
       "        <td>cYzzDwAAQBAJ</td>\n",
       "        <td>unread</td>\n",
       "        <td>1</td>\n",
       "        <td>Alex Rider: Secret Weapon</td>\n",
       "        <td>Anthony Horowitz</td>\n",
       "        <td>http://books.google.com/books/content?id=cYzzDwAAQBAJ&amp;printsec=frontcover&amp;img=1&amp;zoom=5&amp;edge=curl&amp;source=gbs_api</td>\n",
       "    </tr>\n",
       "    <tr>\n",
       "        <td>3</td>\n",
       "        <td>2</td>\n",
       "        <td>wSSZDwAAQBAJ</td>\n",
       "        <td>unread</td>\n",
       "        <td>2</td>\n",
       "        <td>Nightshade</td>\n",
       "        <td>Anthony Horowitz</td>\n",
       "        <td>http://books.google.com/books/content?id=wSSZDwAAQBAJ&amp;printsec=frontcover&amp;img=1&amp;zoom=5&amp;edge=curl&amp;source=gbs_api</td>\n",
       "    </tr>\n",
       "</table>"
      ],
      "text/plain": [
       "[(1, 1, 'REKIbk12HxkC', 'unread', 1, 'Point Blank', 'Anthony Horowitz', 'http://books.google.com/books/content?id=REKIbk12HxkC&printsec=frontcover&img=1&zoom=5&edge=curl&source=gbs_api'),\n",
       " (2, 1, 'cYzzDwAAQBAJ', 'unread', 1, 'Alex Rider: Secret Weapon', 'Anthony Horowitz', 'http://books.google.com/books/content?id=cYzzDwAAQBAJ&printsec=frontcover&img=1&zoom=5&edge=curl&source=gbs_api'),\n",
       " (3, 2, 'wSSZDwAAQBAJ', 'unread', 2, 'Nightshade', 'Anthony Horowitz', 'http://books.google.com/books/content?id=wSSZDwAAQBAJ&printsec=frontcover&img=1&zoom=5&edge=curl&source=gbs_api')]"
      ]
     },
     "execution_count": 46,
     "metadata": {},
     "output_type": "execute_result"
    }
   ],
   "source": [
    "%%sql\n",
    "select * from user_books;"
   ]
  },
  {
   "cell_type": "code",
   "execution_count": 45,
   "metadata": {},
   "outputs": [
    {
     "name": "stdout",
     "output_type": "stream",
     "text": [
      " * postgresql://localhost/upreads_dev\n",
      "2 rows affected.\n"
     ]
    },
    {
     "data": {
      "text/html": [
       "<table>\n",
       "    <tr>\n",
       "        <th>id</th>\n",
       "        <th>user_id</th>\n",
       "        <th>shelf_id</th>\n",
       "    </tr>\n",
       "    <tr>\n",
       "        <td>1</td>\n",
       "        <td>1</td>\n",
       "        <td>1</td>\n",
       "    </tr>\n",
       "    <tr>\n",
       "        <td>2</td>\n",
       "        <td>2</td>\n",
       "        <td>2</td>\n",
       "    </tr>\n",
       "</table>"
      ],
      "text/plain": [
       "[(1, 1, 1), (2, 2, 2)]"
      ]
     },
     "execution_count": 45,
     "metadata": {},
     "output_type": "execute_result"
    }
   ],
   "source": [
    "%%sql\n",
    "select * from user_shelves;\n"
   ]
  },
  {
   "cell_type": "code",
   "execution_count": 22,
   "metadata": {},
   "outputs": [
    {
     "name": "stdout",
     "output_type": "stream",
     "text": [
      " * postgresql://localhost/upreads_dev\n",
      "1 rows affected.\n"
     ]
    },
    {
     "data": {
      "text/html": [
       "<table>\n",
       "    <tr>\n",
       "        <th>id</th>\n",
       "        <th>is_public</th>\n",
       "        <th>creator_user_id</th>\n",
       "        <th>shelf_name</th>\n",
       "    </tr>\n",
       "    <tr>\n",
       "        <td>1</td>\n",
       "        <td>True</td>\n",
       "        <td>1</td>\n",
       "        <td>Black Lives Matter</td>\n",
       "    </tr>\n",
       "</table>"
      ],
      "text/plain": [
       "[(1, True, 1, 'Black Lives Matter')]"
      ]
     },
     "execution_count": 22,
     "metadata": {},
     "output_type": "execute_result"
    }
   ],
   "source": [
    "%%sql\n",
    "\n",
    "select * from shelves WHERE creator_user_id = 1;"
   ]
  },
  {
   "cell_type": "code",
   "execution_count": 3,
   "metadata": {},
   "outputs": [
    {
     "name": "stdout",
     "output_type": "stream",
     "text": [
      " * postgresql://localhost/upreads_dev\n",
      "2 rows affected.\n"
     ]
    },
    {
     "data": {
      "text/html": [
       "<table>\n",
       "    <tr>\n",
       "        <th>shelf_name</th>\n",
       "        <th>shelf_id</th>\n",
       "    </tr>\n",
       "    <tr>\n",
       "        <td>Black Lives Matter</td>\n",
       "        <td>1</td>\n",
       "    </tr>\n",
       "    <tr>\n",
       "        <td>test</td>\n",
       "        <td>6</td>\n",
       "    </tr>\n",
       "</table>"
      ],
      "text/plain": [
       "[('Black Lives Matter', 1), ('test', 6)]"
      ]
     },
     "execution_count": 3,
     "metadata": {},
     "output_type": "execute_result"
    }
   ],
   "source": [
    "%%sql\n",
    "\n",
    "SELECT\n",
    "    shelf_name,\n",
    "    us.shelf_id\n",
    "FROM user_shelves us\n",
    "LEFT JOIN shelves on us.shelf_id = shelves.id\n",
    "WHERE us.user_id = 1"
   ]
  },
  {
   "cell_type": "code",
   "execution_count": null,
   "metadata": {},
   "outputs": [],
   "source": []
  }
 ],
 "metadata": {
  "kernelspec": {
   "display_name": "Python 3",
   "language": "python",
   "name": "python3"
  },
  "language_info": {
   "codemirror_mode": {
    "name": "ipython",
    "version": 3
   },
   "file_extension": ".py",
   "mimetype": "text/x-python",
   "name": "python",
   "nbconvert_exporter": "python",
   "pygments_lexer": "ipython3",
   "version": "3.7.6"
  }
 },
 "nbformat": 4,
 "nbformat_minor": 4
}
